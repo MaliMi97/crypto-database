{
 "cells": [
  {
   "cell_type": "markdown",
   "metadata": {},
   "source": [
    "In this notebook, tables, views, procedures and functions of a PostgreSQL database are created. Some data for bitcoin and ethereum are filled in.\n",
    "\n",
    "IMPORTANT! THe script does not create the database, you have to do that yourself."
   ]
  },
  {
   "cell_type": "code",
   "execution_count": 1,
   "metadata": {},
   "outputs": [],
   "source": [
    "from PostgreSQL import PostgreSQL"
   ]
  },
  {
   "cell_type": "code",
   "execution_count": 2,
   "metadata": {},
   "outputs": [],
   "source": [
    "sql = PostgreSQL(database='token_database', user='postgres', host='127.0.0.1', path_to_default='sql_script')"
   ]
  },
  {
   "cell_type": "code",
   "execution_count": 3,
   "metadata": {},
   "outputs": [],
   "source": [
    "# Sets the database to default state\n",
    "sql.return_to_default()"
   ]
  },
  {
   "cell_type": "code",
   "execution_count": 4,
   "metadata": {},
   "outputs": [],
   "source": [
    "# Fills in the data for bitcoin\n",
    "d = {'crypto_token':{'abbreviation':'BTC', 'token_name':'Bitcoin', 'website':None, 'maximum_supply':'21 000 000 000', 'launch_date':'2009-01-03'},\n",
    "'social_media':['https://www.reddit.com/r/Bitcoin/', 'https://twitter.com/BTC_Archive'],\n",
    "'investor':[{'investor_name':'Alameda Research', 'type_of_investor':'trading company'}, {'investor_name':'Jump Capital', 'type_of_investor':'venture firm'},\n",
    "            {'investor_name':'Paradigm', 'type_of_investor':'digital asset investment firm'}, {'investor_name':'Delphi Digital', 'type_of_investor':'research and consulting for digital assets'},\n",
    "            {'investor_name':'Three Arrows Capital', 'type_of_investor':'hedge fund'}],\n",
    "'teammate':[{'teammate_name':'Satoshi Nakamoto', 'background':None, 'teammate_position':'founder', 'start_on':'2009-01-03', 'end_on':'2009-01-03'}],\n",
    "'keyword':['payment', 'the first crypto']}\n",
    "\n",
    "sql.fill_database_with_token(d)"
   ]
  },
  {
   "cell_type": "code",
   "execution_count": 5,
   "metadata": {},
   "outputs": [],
   "source": [
    "# Fills in the data for ethereum\n",
    "d = {'crypto_token':{'abbreviation':'ETH', 'token_name':'Ethereum', 'website':'https://ethereum.org/', 'maximum_supply':'infinite', 'launch_date':'2015-07-30'},\n",
    "'social_media':['https://www.reddit.com/r/ethereum/', 'https://www.youtube.com/c/EthereumFoundation', 'https://twitter.com/ethdotorg', 'https://discord.com/invite/5W5tVb3', 'https://twitter.com/ethereum',\n",
    "                'https://discord.com/invite/EMgs6sN', 'https://discord.com/invite/Nz6rtfJ8Cu'],\n",
    "'investor':[{'investor_name':'Alameda Research', 'type_of_investor':'trading company'}, {'investor_name':'Jump Capital', 'type_of_investor':'venture firm'},\n",
    "            {'investor_name':'Paradigm', 'type_of_investor':'digital asset investment firm'}, {'investor_name':'Delphi Digital', 'type_of_investor':'esearch and consulting for digital assets'},\n",
    "            {'investor_name':'Three Arrows Capital', 'type_of_investor':'hedge fund'}, {'investor_name':'1Confirmation', 'type_of_investor':'venture fund for decentralized web'},\n",
    "            {'investor_name':'Blocktree Capital', 'type_of_investor':'venture fund for blockchain, digital and crypto assets'}],\n",
    "'teammate':[{'teammate_name':'Greg Colvin', 'background':'Psychology Ph.D', 'teammate_position':'designer and developer', 'start_on':'2016-03-01', 'end_on':'2016-09-01'},\n",
    "            {'teammate_name':'Vitalik Buterin', 'background':'Computer Science', 'teammate_position':'co-founder', 'start_on':'2013-11-01', 'end_on':None},\n",
    "            {'teammate_name':'Péter Szilágyi', 'background':'Computer Science master, Philosopy Ph.D', 'teammate_position':'developer', 'start_on':'2015-04-01', 'end_on':None},\n",
    "            {'teammate_name':'Gavin Wood', 'background':'Computer Science master, Philosopy Ph.D', 'teammate_position':'co-founder', 'start_on':'2013-12-01', 'end_on':'2015-12-01'}],\n",
    "'keyword':['De-Fi', 'Smart Contract', 'the second crypto', 'eth ecosystem']}\n",
    "\n",
    "sql.fill_database_with_token(d)"
   ]
  },
  {
   "cell_type": "code",
   "execution_count": 6,
   "metadata": {},
   "outputs": [],
   "source": [
    "# Fills in the data for Cardano\n",
    "d = {'crypto_token':{'abbreviation':'ADA', 'token_name':'Cardano', 'website':'https://cardano.org/', 'maximum_supply':'45 000 000 000', 'launch_date':'2017-09-01'},\n",
    "'social_media':['https://www.meetup.com/en-AU/pro/cardano/', 'https://t.me/CardanoAnnouncements', 'https://www.facebook.com/groups/CardanoCommunity', 'https://twitter.com/cardano', 'https://www.youtube.com/channel/UCbQ9vGfezru1YRI1zDCtTGg'],\n",
    "'investor':[],\n",
    "'teammate':[{'teammate_name':'Charles Hoskinson', 'background':'Analytic number theory, Cryptography', 'teammate_position':'CEO', 'start_on':'2017-09-01', 'end_on':None}],\n",
    "'keyword':['Smart Contract', 'ada ecosystem']}\n",
    "\n",
    "sql.fill_database_with_token(d)"
   ]
  },
  {
   "cell_type": "code",
   "execution_count": 7,
   "metadata": {},
   "outputs": [],
   "source": [
    "# Fills in the data for Terra\n",
    "d = {'crypto_token':{'abbreviation':'LUNA', 'token_name':'Terra', 'website':'https://www.terra.money/', 'maximum_supply':'1 000 000 000', 'launch_date':'2018-01-01'},\n",
    "'social_media':['https://discord.com/invite/EuKCeGFb93', 'https://github.com/terra-money/', 'https://www.youtube.com/channel/UCoV1RXZ9ZBGcuu_PMTTlM0g', 'https://medium.com/terra-money', 'https://t.me/TerraLunaChat',\n",
    "                'https://www.reddit.com/r/terraluna/'],\n",
    "'investor':[{'investor_name':'Coinbase Ventures', 'type_of_investor':'provides financing to early-stage companies that might soon be on coinbase'}, {'investor_name':'Binance Labs', 'type_of_investor':'social impact fund'},\n",
    "            {'investor_name':'Delphi Digital', 'type_of_investor':'esearch and consulting for digital assets'}, {'investor_name':'Arrington CRP Capital', 'type_of_investor':'digital asset management firm launched by Michael Arrington with CRP as its base denomition'},\n",
    "            {'investor_name':'Blockchain.com Ventures', 'type_of_investor':None}, {'investor_name':'1kx', 'type_of_investor':None}],\n",
    "'teammate':[{'teammate_name':'Brian Jung', 'background':'Electrical and Economic engineering', 'teammate_position':'head of assets', 'start_on':'2018-01-01', 'end_on':None},\n",
    "            {'teammate_name':'Do Kwon', 'background':'Computer Science', 'teammate_position':'CEO', 'start_on':'2018-01-01', 'end_on':None},\n",
    "            {'teammate_name':'Paul Kim', 'background':'Computer Science', 'teammate_position':'head of infrastructure', 'start_on':None, 'end_on':None},\n",
    "            {'teammate_name':'Nicholas Platias', 'background':'Computer Science', 'teammate_position':'head of research', 'start_on':None, 'end_on':None}],\n",
    "'keyword':['global payment system', 'creates fiat-pegged stablecoins', 'luna ecosystem']}\n",
    "\n",
    "sql.fill_database_with_token(d)"
   ]
  },
  {
   "cell_type": "code",
   "execution_count": 8,
   "metadata": {},
   "outputs": [],
   "source": [
    "# Fills in the data for XRP\n",
    "d = {'crypto_token':{'abbreviation':'XRP', 'token_name':'XRP', 'website':'https://xrpl.org/', 'maximum_supply':'100 000 000 000', 'launch_date':'2013-01-01'},\n",
    "'social_media':['https://xrpl.org/blog/', 'https://github.com/XRPLF/xrpl-dev-portal/'],\n",
    "'investor':[{'investor_name':'Jesse Powell', 'type_of_investor':'CEO of Kraken'}, {'investor_name':'Roger Ver', 'type_of_investor':'CEO at Bitcoin.com'}],\n",
    "'teammate':[{'teammate_name':'Brad Garlinghouse', 'background':'MBA at Harvard', 'teammate_position':'CEO', 'start_on':'2017-01-01', 'end_on':None},\n",
    "            {'teammate_name':'David Schwartz', 'background':'Electrical Engineering at Houston', 'teammate_position':'CTO', 'start_on':'2011-12-01', 'end_on':None},\n",
    "            {'teammate_name':'Chris Larsen', 'background':'Computer Science', 'teammate_position':'Executive Chairman', 'start_on':None, 'end_on':None},\n",
    "            {'teammate_name':'Jed McCaleb', 'background':'University of California', 'teammate_position':'co-founder', 'start_on':'2011-08-01', 'end_on':'2013-07-01'}],\n",
    "'keyword':['alternative to SWIFT', 'bridge between fiat currencies', 'xrp ecosystem']}\n",
    "\n",
    "sql.fill_database_with_token(d)"
   ]
  },
  {
   "cell_type": "code",
   "execution_count": 9,
   "metadata": {},
   "outputs": [],
   "source": [
    "# Fills in the data for TerraUSD\n",
    "d = {'crypto_token':{'abbreviation':'UST', 'token_name':'TerraUSD', 'website':'https://www.terra.money/', 'maximum_supply':'infinite', 'launch_date':'2018-01-01'},\n",
    "'social_media':['https://discord.com/invite/EuKCeGFb93', 'https://github.com/terra-money/', 'https://www.youtube.com/channel/UCoV1RXZ9ZBGcuu_PMTTlM0g', 'https://medium.com/terra-money', 'https://t.me/TerraLunaChat',\n",
    "                'https://www.reddit.com/r/terraluna/'],\n",
    "'investor':[],\n",
    "'teammate':[{'teammate_name':'Brian Jung', 'background':'Electrical and Economic engineering', 'teammate_position':'head of assets', 'start_on':'2018-01-01', 'end_on':None},\n",
    "            {'teammate_name':'Do Kwon', 'background':'Computer Science', 'teammate_position':'CEO', 'start_on':'2018-01-01', 'end_on':None},\n",
    "            {'teammate_name':'Paul Kim', 'background':'Computer Science', 'teammate_position':'head of infrastructure', 'start_on':None, 'end_on':None},\n",
    "            {'teammate_name':'Nicholas Platias', 'background':'Computer Science', 'teammate_position':'head of research', 'start_on':None, 'end_on':None}],\n",
    "'keyword':['fiat-pegged stablecoin', 'luna ecosystem']}\n",
    "\n",
    "sql.fill_database_with_token(d)"
   ]
  },
  {
   "cell_type": "code",
   "execution_count": 10,
   "metadata": {},
   "outputs": [],
   "source": [
    "# Fills in the data for Decentraland\n",
    "d = {'crypto_token':{'abbreviation':'MANA', 'token_name':'Decentraland', 'website':'https://decentraland.org/', 'maximum_supply':'2 193 802 727', 'launch_date':'2017-08-01'},\n",
    "'social_media':['https://www.reddit.com/r/decentraland/', 'https://twitter.com/decentraland'],\n",
    "'investor':[{'investor_name':'Animoca Brands', 'type_of_investor':'global developer'}, {'investor_name':'Boost VC', 'type_of_investor':None},\n",
    "            {'investor_name':'Digital Currency Group', 'type_of_investor':'investment firm focused on early seed rounds'}, {'investor_name':'Fabric Ventures', 'type_of_investor':'Investing in decentralised data networks'}],\n",
    "'teammate':[{'teammate_name':'Ari Meilich', 'background':'Bachelor of Science, Neuroscience', 'teammate_position':'project leader', 'start_on':'2017-08-01', 'end_on':None},\n",
    "            {'teammate_name':'Esteban Ordano', 'background':'Software Engineering', 'teammate_position':'CTO', 'start_on':'2017-05-01', 'end_on':None}],\n",
    "'keyword':['metaverse', 'NFT', 'digital land', 'eth ecosystem']}\n",
    "\n",
    "sql.fill_database_with_token(d)"
   ]
  },
  {
   "cell_type": "code",
   "execution_count": null,
   "metadata": {},
   "outputs": [],
   "source": []
  }
 ],
 "metadata": {
  "interpreter": {
   "hash": "67b7daaa5770eaa3f80279b20b731c16e267a7bb311d7b0bc30c0138216b5693"
  },
  "kernelspec": {
   "display_name": "Python 3.9.7 ('base')",
   "language": "python",
   "name": "python3"
  },
  "language_info": {
   "codemirror_mode": {
    "name": "ipython",
    "version": 3
   },
   "file_extension": ".py",
   "mimetype": "text/x-python",
   "name": "python",
   "nbconvert_exporter": "python",
   "pygments_lexer": "ipython3",
   "version": "3.9.7"
  },
  "orig_nbformat": 4
 },
 "nbformat": 4,
 "nbformat_minor": 2
}
